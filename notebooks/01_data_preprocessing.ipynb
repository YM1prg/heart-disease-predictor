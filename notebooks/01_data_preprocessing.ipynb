{
 "cells": [
  {
   "cell_type": "markdown",
   "id": "04c6e3fd",
   "metadata": {},
   "source": [
    "### DataSet"
   ]
  },
  {
   "cell_type": "code",
   "execution_count": null,
   "id": "c4b39b39",
   "metadata": {
    "vscode": {
     "languageId": "plaintext"
    }
   },
   "outputs": [],
   "source": [
    "!pip install ucimlrepo"
   ]
  },
  {
   "cell_type": "code",
   "execution_count": null,
   "id": "3833a105",
   "metadata": {
    "vscode": {
     "languageId": "plaintext"
    }
   },
   "outputs": [],
   "source": [
    "from ucimlrepo import fetch_ucirepo \n",
    "import pandas as pd\n",
    "import numpy as np\n",
    "import matplotlib.pyplot as plt\n",
    "import seaborn as sns\n",
    "from sklearn.preprocessing import StandardScaler\n",
    "from sklearn.decomposition import PCA"
   ]
  },
  {
   "cell_type": "markdown",
   "id": "fa9cd9ff",
   "metadata": {},
   "source": [
    "## **Data Preprocessing & Cleaning**"
   ]
  },
  {
   "cell_type": "code",
   "execution_count": null,
   "id": "143b0cee",
   "metadata": {
    "vscode": {
     "languageId": "plaintext"
    }
   },
   "outputs": [],
   "source": [
    "heart_disease = fetch_ucirepo(id=45)   \n",
    "input = heart_disease.data.features \n",
    "target = heart_disease.data.targets \n",
    "input = input.dropna()  \n",
    "C1= ['cp',  'restecg', 'slope', 'ca', 'thal']\n",
    "C2=['age', 'trestbps', 'chol', 'thalach', 'oldpeak']\n",
    "in_encoded = pd.get_dummies(input, columns=C1,prefix=C1 , drop_first=True)\n",
    "scaler = StandardScaler()\n",
    "in_scaled = scaler.fit_transform(in_encoded)\n",
    "in_scaled = pd.DataFrame(in_scaled, columns=in_encoded.columns)"
   ]
  },
  {
   "cell_type": "markdown",
   "id": "39879eff",
   "metadata": {},
   "source": [
    "### viusalization"
   ]
  },
  {
   "cell_type": "code",
   "execution_count": null,
   "id": "b5a46a7a",
   "metadata": {
    "vscode": {
     "languageId": "plaintext"
    }
   },
   "outputs": [],
   "source": [
    "# histogram\n",
    "plt.figure(figsize=(12, 8))\n",
    "in_encoded.hist( figsize=(12, 10), color='blue', edgecolor='cyan')\n",
    "plt.suptitle(\"Feature Distributions\", fontsize=16)\n",
    "plt.tight_layout()\n",
    "plt.show()\n",
    "conct_plot = pd.concat([in_encoded, target], axis=1)\n",
    "copy_cont = conct_plot.copy()\n",
    "corr = conct_plot.corr()\n",
    "# heat map\n",
    "plt.figure(figsize=(14, 10))\n",
    "sns.heatmap(corr, cmap='coolwarm', square=True, linewidths=.5)\n",
    "plt.title(\"Correlation Heatmap (Including Target)\", fontsize=16)\n",
    "plt.show()\n",
    "# boxplots\n",
    "for col in C2:\n",
    "    plt.figure(figsize=(8, 4))\n",
    "    sns.boxplot(x='num', y=col, data=copy_cont)\n",
    "    plt.title(f'{col} by Heart Disease (num)')\n",
    "    plt.xlabel('Heart Disease Severity (num)')\n",
    "    plt.ylabel(col)\n",
    "    plt.show()"
   ]
  }
 ],
 "metadata": {
  "language_info": {
   "name": "python"
  }
 },
 "nbformat": 4,
 "nbformat_minor": 5
}
