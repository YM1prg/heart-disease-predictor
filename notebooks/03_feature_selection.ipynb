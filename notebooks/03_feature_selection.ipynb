{
  "cells": [
    {
      "cell_type": "markdown",
      "metadata": {
        "id": "N-Rj7PtqMgzX"
      },
      "source": [
        "### Dataset"
      ]
    },
    {
      "cell_type": "code",
      "execution_count": 1,
      "metadata": {
        "colab": {
          "base_uri": "https://localhost:8080/"
        },
        "id": "RE1Aw4JVMXv-",
        "outputId": "23d7b7f2-d3e5-44dd-da31-5436b2ca0833"
      },
      "outputs": [
        {
          "name": "stdout",
          "output_type": "stream",
          "text": [
            "Collecting ucimlrepo\n",
            "  Downloading ucimlrepo-0.0.7-py3-none-any.whl.metadata (5.5 kB)\n",
            "Requirement already satisfied: pandas>=1.0.0 in /usr/local/lib/python3.12/dist-packages (from ucimlrepo) (2.2.2)\n",
            "Requirement already satisfied: certifi>=2020.12.5 in /usr/local/lib/python3.12/dist-packages (from ucimlrepo) (2025.8.3)\n",
            "Requirement already satisfied: numpy>=1.26.0 in /usr/local/lib/python3.12/dist-packages (from pandas>=1.0.0->ucimlrepo) (2.0.2)\n",
            "Requirement already satisfied: python-dateutil>=2.8.2 in /usr/local/lib/python3.12/dist-packages (from pandas>=1.0.0->ucimlrepo) (2.9.0.post0)\n",
            "Requirement already satisfied: pytz>=2020.1 in /usr/local/lib/python3.12/dist-packages (from pandas>=1.0.0->ucimlrepo) (2025.2)\n",
            "Requirement already satisfied: tzdata>=2022.7 in /usr/local/lib/python3.12/dist-packages (from pandas>=1.0.0->ucimlrepo) (2025.2)\n",
            "Requirement already satisfied: six>=1.5 in /usr/local/lib/python3.12/dist-packages (from python-dateutil>=2.8.2->pandas>=1.0.0->ucimlrepo) (1.17.0)\n",
            "Downloading ucimlrepo-0.0.7-py3-none-any.whl (8.0 kB)\n",
            "Installing collected packages: ucimlrepo\n",
            "Successfully installed ucimlrepo-0.0.7\n"
          ]
        }
      ],
      "source": [
        "!pip install ucimlrepo"
      ]
    },
    {
      "cell_type": "markdown",
      "metadata": {
        "id": "6b9DkiakvmMN"
      },
      "source": [
        "#### the libraries"
      ]
    },
    {
      "cell_type": "code",
      "execution_count": 169,
      "metadata": {
        "id": "gi7vJl0fvkB1"
      },
      "outputs": [],
      "source": [
        "from ucimlrepo import fetch_ucirepo\n",
        "import pandas as pd\n",
        "import numpy as np\n",
        "import matplotlib.pyplot as plt\n",
        "import seaborn as sns\n",
        "from sklearn.preprocessing import StandardScaler\n",
        "from sklearn.decomposition import PCA\n",
        "from sklearn.feature_selection import chi2\n",
        "from sklearn.ensemble import RandomForestRegressor\n",
        "from sklearn.feature_selection import RFE\n",
        "from sklearn.model_selection import train_test_split\n",
        "from sklearn.preprocessing import MinMaxScaler\n",
        "from sklearn.linear_model import LogisticRegression\n",
        "from sklearn.tree import DecisionTreeClassifier\n",
        "from sklearn.ensemble import RandomForestClassifier\n",
        "from sklearn.svm import SVC\n",
        "from sklearn.metrics import accuracy_score, precision_score, recall_score, f1_score, roc_auc_score, roc_curve\n",
        "from sklearn.cluster import KMeans, AgglomerativeClustering\n",
        "from scipy.cluster.hierarchy import dendrogram, linkage\n",
        "from sklearn.metrics import adjusted_rand_score, silhouette_score\n",
        "import warnings"
      ]
    },
    {
      "cell_type": "markdown",
      "metadata": {
        "id": "PP3jUMvkKaBz"
      },
      "source": [
        "### Feature Selection\n"
      ]
    },
    {
      "cell_type": "code",
      "execution_count": 127,
      "metadata": {
        "colab": {
          "base_uri": "https://localhost:8080/"
        },
        "id": "G0Hq0KYb_TSE",
        "outputId": "9d5be43f-09a7-4ac8-8e7a-f65bfc5acae7"
      },
      "outputs": [
        {
          "name": "stderr",
          "output_type": "stream",
          "text": [
            "/usr/local/lib/python3.12/dist-packages/sklearn/base.py:1389: DataConversionWarning: A column-vector y was passed when a 1d array was expected. Please change the shape of y to (n_samples,), for example using ravel().\n",
            "  return fit_method(estimator, *args, **kwargs)\n"
          ]
        },
        {
          "name": "stdout",
          "output_type": "stream",
          "text": [
            "✅ Top 10 Features Selected by RFE:\n",
            "   1. age\n",
            "   2. trestbps\n",
            "   3. chol\n",
            "   4. thalach\n",
            "   5. exang\n",
            "   6. oldpeak\n",
            "   7. cp_4\n",
            "   8. slope_2\n",
            "   9. ca_1.0\n",
            "   10. thal_7.0\n",
            "\n",
            "📊 Full Feature Ranking (Lowest Rank = Most Important):\n",
            "      Feature  Selected  Rank\n",
            "0         age      True     1\n",
            "2    trestbps      True     1\n",
            "3        chol      True     1\n",
            "5     thalach      True     1\n",
            "7     oldpeak      True     1\n",
            "6       exang      True     1\n",
            "13    slope_2      True     1\n",
            "10       cp_4      True     1\n",
            "15     ca_1.0      True     1\n",
            "19   thal_7.0      True     1\n",
            "1         sex     False     2\n",
            "16     ca_2.0     False     3\n",
            "12  restecg_2     False     4\n",
            "17     ca_3.0     False     5\n",
            "4         fbs     False     6\n",
            "9        cp_3     False     7\n",
            "18   thal_6.0     False     8\n",
            "14    slope_3     False     9\n",
            "8        cp_2     False    10\n",
            "11  restecg_1     False    11\n"
          ]
        }
      ],
      "source": [
        "t1 = target.values.ravel()\n",
        "model = RandomForestRegressor(random_state=42)\n",
        "model.fit(d_pca_df, target)\n",
        "\n",
        "feature_importances = pd.Series(model.feature_importances_, index=d_pca_df.columns)\n",
        "feature_importances = feature_importances.sort_values(ascending=False)\n",
        "model_rfe = RandomForestClassifier(n_estimators=50, random_state=42)\n",
        "X_final = in_scaled.copy()\n",
        "\n",
        "n_features_to_select = 10\n",
        "rfe = RFE(estimator=model_rfe, n_features_to_select=n_features_to_select)\n",
        "rfe.fit(X_final, t1)\n",
        "selected_features_rfe = X_final.columns[rfe.support_].tolist()\n",
        "print(\"✅ Top 10 Features Selected by RFE:\")\n",
        "for i, feat in enumerate(selected_features_rfe, 1):\n",
        "    print(f\"   {i}. {feat}\")\n",
        "\n",
        "feature_ranking = pd.DataFrame({\n",
        "    'Feature': X_final.columns,\n",
        "    'Selected': rfe.support_,\n",
        "    'Rank': rfe.ranking_\n",
        "}).sort_values('Rank')\n",
        "\n",
        "print(\"\\n📊 Full Feature Ranking (Lowest Rank = Most Important):\")\n",
        "print(feature_ranking)"
      ]
    },
    {
      "cell_type": "code",
      "execution_count": 128,
      "metadata": {
        "colab": {
          "base_uri": "https://localhost:8080/"
        },
        "id": "pWBin48IMrsy",
        "outputId": "cbbb4367-b033-4bee-cb77-696216fcd050"
      },
      "outputs": [
        {
          "name": "stdout",
          "output_type": "stream",
          "text": [
            "✅ Chi-Square Test Results (Most Significant First):\n",
            "      Feature  Chi2_Stat       P_Value\n",
            "19   thal_7.0  46.721875  1.742480e-09\n",
            "10       cp_4  45.129615  3.736737e-09\n",
            "6       exang  41.534482  2.083076e-08\n",
            "16     ca_2.0  34.648382  5.485601e-07\n",
            "17     ca_3.0  29.999871  4.894734e-06\n",
            "13    slope_2  22.408432  1.661808e-04\n",
            "9        cp_3  21.974965  2.027333e-04\n",
            "8        cp_2  16.942450  1.983352e-03\n",
            "15     ca_1.0  15.262296  4.187001e-03\n",
            "18   thal_6.0  10.943440  2.720708e-02\n",
            "1         sex   7.499223  1.117436e-01\n",
            "4         fbs   6.658223  1.550901e-01\n",
            "11  restecg_1   6.557266  1.612178e-01\n",
            "12  restecg_2   6.458947  1.673955e-01\n",
            "14    slope_3   5.528483  2.372371e-01\n",
            "7     oldpeak   5.475394  2.419009e-01\n",
            "5     thalach   3.133976  5.356604e-01\n",
            "0         age   1.244886  8.706545e-01\n",
            "2    trestbps   0.622014  9.605862e-01\n",
            "3        chol   0.175931  9.963506e-01\n",
            "\n",
            "🎯 Number of statistically significant features (p < 0.05): 10\n",
            "Top 5 significant features:\n",
            "     Feature  Chi2_Stat       P_Value\n",
            "19  thal_7.0  46.721875  1.742480e-09\n",
            "10      cp_4  45.129615  3.736737e-09\n",
            "6      exang  41.534482  2.083076e-08\n",
            "16    ca_2.0  34.648382  5.485601e-07\n",
            "17    ca_3.0  29.999871  4.894734e-06\n"
          ]
        }
      ],
      "source": [
        "scaler_chi2 = MinMaxScaler()\n",
        "X_chi2 = scaler_chi2.fit_transform(X_final)\n",
        "\n",
        "\n",
        "X_chi2 = np.clip(X_chi2, 0, None)\n",
        "\n",
        "chi2_stats, p_values = chi2(X_chi2, t1)\n",
        "\n",
        "chi2_results = pd.DataFrame({\n",
        "    'Feature': X_final.columns,\n",
        "    'Chi2_Stat': chi2_stats,\n",
        "    'P_Value': p_values\n",
        "}).sort_values('Chi2_Stat', ascending=False)\n",
        "\n",
        "print(\"✅ Chi-Square Test Results (Most Significant First):\")\n",
        "print(chi2_results)\n",
        "\n",
        "significant_features = chi2_results[chi2_results['P_Value'] < 0.05]\n",
        "print(f\"\\n🎯 Number of statistically significant features (p < 0.05): {len(significant_features)}\")\n",
        "print(\"Top 5 significant features:\")\n",
        "print(significant_features.head(5)[['Feature', 'Chi2_Stat', 'P_Value']])"
      ]
    }
  ],
  "metadata": {
    "colab": {
      "provenance": []
    },
    "kernelspec": {
      "display_name": "Python 3",
      "name": "python3"
    },
    "language_info": {
      "name": "python"
    }
  },
  "nbformat": 4,
  "nbformat_minor": 0
}
