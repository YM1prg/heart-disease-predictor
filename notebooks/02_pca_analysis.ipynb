{
 "cells": [
  {
   "cell_type": "markdown",
   "id": "05e68837",
   "metadata": {},
   "source": [
    "### 2.2 Dimensionality Reduction - PCA (Principal Component Analysis)"
   ]
  },
  {
   "cell_type": "code",
   "execution_count": null,
   "id": "506601dc",
   "metadata": {
    "vscode": {
     "languageId": "plaintext"
    }
   },
   "outputs": [],
   "source": [
    "# I tried the n_compnents my self unitll I found the variance >= 80% at 12\n",
    "pca = PCA(n_components=12)\n",
    "d_pca = pca.fit_transform(in_scaled)\n",
    "\n",
    "d_pca_df = pd.DataFrame(\n",
    "    d_pca,\n",
    "    columns=[f'PC{i+1}' for i in range(12)],\n",
    "    index=in_encoded.index\n",
    ")\n",
    "print(\"Shape of d_pca:\", d_pca_df.shape)\n",
    "\n",
    "explained_variance = pca.explained_variance_ratio_\n",
    "print(f\"Explained variance by 2 components: {explained_variance}\")\n",
    "print(f\"Total explained variance: {sum(explained_variance):.2f}\")"
   ]
  },
  {
   "cell_type": "markdown",
   "id": "28632169",
   "metadata": {},
   "source": [
    "### Visuals Scatter PCA and plot of the accumulative"
   ]
  },
  {
   "cell_type": "code",
   "execution_count": null,
   "id": "8428212b",
   "metadata": {
    "vscode": {
     "languageId": "plaintext"
    }
   },
   "outputs": [],
   "source": [
    "sns.scatterplot(data=d_pca,s=50)\n",
    "cumsum = np.cumsum(pca.explained_variance_ratio_)\n",
    "plt.figure(figsize=(12, 10))\n",
    "plt.plot(range(1, len(cumsum) + 1), cumsum)\n",
    "plt.axhline(y=0.8, color='r', linestyle='--', label='80% threshold')\n",
    "plt.title(\"Cumulative Explained Variance\")\n",
    "plt.xlabel(\"Number of Components\")\n",
    "plt.ylabel(\"Cumulative Explained Variance\")\n",
    "plt.legend()\n",
    "plt.grid(True, alpha=0.3)\n",
    "plt.show()\n",
    "plt.figure(figsize=(12, 10))"
   ]
  }
 ],
 "metadata": {
  "language_info": {
   "name": "python"
  }
 },
 "nbformat": 4,
 "nbformat_minor": 5
}
